{
 "cells": [
  {
   "cell_type": "code",
   "execution_count": 1,
   "id": "d3a5d05f",
   "metadata": {
    "ExecuteTime": {
     "end_time": "2021-12-13T09:17:09.841361Z",
     "start_time": "2021-12-13T09:17:06.743239Z"
    }
   },
   "outputs": [],
   "source": [
    "import datetime\n",
    "import numpy as np\n",
    "import pandas as pd\n",
    "\n",
    "import matplotlib.pyplot as plt\n",
    "import seaborn as sns\n",
    "import plotly.express as px"
   ]
  },
  {
   "cell_type": "code",
   "execution_count": null,
   "id": "65a7547d",
   "metadata": {},
   "outputs": [],
   "source": []
  },
  {
   "cell_type": "markdown",
   "id": "9be1357f",
   "metadata": {},
   "source": [
    "## Spreads statistics"
   ]
  },
  {
   "cell_type": "code",
   "execution_count": 2,
   "id": "2ea585bc",
   "metadata": {
    "ExecuteTime": {
     "end_time": "2021-12-13T09:17:12.265133Z",
     "start_time": "2021-12-13T09:17:09.846908Z"
    }
   },
   "outputs": [
    {
     "data": {
      "text/html": [
       "<div>\n",
       "<style scoped>\n",
       "    .dataframe tbody tr th:only-of-type {\n",
       "        vertical-align: middle;\n",
       "    }\n",
       "\n",
       "    .dataframe tbody tr th {\n",
       "        vertical-align: top;\n",
       "    }\n",
       "\n",
       "    .dataframe thead th {\n",
       "        text-align: right;\n",
       "    }\n",
       "</style>\n",
       "<table border=\"1\" class=\"dataframe\">\n",
       "  <thead>\n",
       "    <tr style=\"text-align: right;\">\n",
       "      <th></th>\n",
       "      <th>Time</th>\n",
       "      <th>AGGRESSOR_SIDE</th>\n",
       "      <th>PRICE_min</th>\n",
       "      <th>PRICE_max</th>\n",
       "      <th>SIZE_sum</th>\n",
       "      <th>Date</th>\n",
       "      <th>TimeOnly</th>\n",
       "      <th>DOW</th>\n",
       "      <th>H</th>\n",
       "      <th>Impact</th>\n",
       "      <th>BID</th>\n",
       "      <th>ASK</th>\n",
       "      <th>MID</th>\n",
       "      <th>Spread</th>\n",
       "    </tr>\n",
       "  </thead>\n",
       "  <tbody>\n",
       "    <tr>\n",
       "      <th>0</th>\n",
       "      <td>2021-02-01 10:00:00.271880</td>\n",
       "      <td>B</td>\n",
       "      <td>75.5975</td>\n",
       "      <td>75.6700</td>\n",
       "      <td>663</td>\n",
       "      <td>2021-02-01</td>\n",
       "      <td>10:00:00.271880</td>\n",
       "      <td>1</td>\n",
       "      <td>10</td>\n",
       "      <td>0.0725</td>\n",
       "      <td>75.565002</td>\n",
       "      <td>75.599998</td>\n",
       "      <td>75.582504</td>\n",
       "      <td>0.0350</td>\n",
       "    </tr>\n",
       "    <tr>\n",
       "      <th>1</th>\n",
       "      <td>2021-02-01 10:00:00.304507</td>\n",
       "      <td>B</td>\n",
       "      <td>75.6625</td>\n",
       "      <td>75.6625</td>\n",
       "      <td>10</td>\n",
       "      <td>2021-02-01</td>\n",
       "      <td>10:00:00.304507</td>\n",
       "      <td>1</td>\n",
       "      <td>10</td>\n",
       "      <td>0.0000</td>\n",
       "      <td>75.567497</td>\n",
       "      <td>75.662498</td>\n",
       "      <td>75.614998</td>\n",
       "      <td>0.0950</td>\n",
       "    </tr>\n",
       "    <tr>\n",
       "      <th>2</th>\n",
       "      <td>2021-02-01 10:00:00.346729</td>\n",
       "      <td>B</td>\n",
       "      <td>75.6575</td>\n",
       "      <td>75.6575</td>\n",
       "      <td>3</td>\n",
       "      <td>2021-02-01</td>\n",
       "      <td>10:00:00.346729</td>\n",
       "      <td>1</td>\n",
       "      <td>10</td>\n",
       "      <td>0.0000</td>\n",
       "      <td>75.602501</td>\n",
       "      <td>75.657501</td>\n",
       "      <td>75.630005</td>\n",
       "      <td>0.0550</td>\n",
       "    </tr>\n",
       "    <tr>\n",
       "      <th>3</th>\n",
       "      <td>2021-02-01 10:00:00.360369</td>\n",
       "      <td>S</td>\n",
       "      <td>75.6025</td>\n",
       "      <td>75.6025</td>\n",
       "      <td>20</td>\n",
       "      <td>2021-02-01</td>\n",
       "      <td>10:00:00.360369</td>\n",
       "      <td>1</td>\n",
       "      <td>10</td>\n",
       "      <td>0.0000</td>\n",
       "      <td>75.602501</td>\n",
       "      <td>75.625000</td>\n",
       "      <td>75.613754</td>\n",
       "      <td>0.0225</td>\n",
       "    </tr>\n",
       "    <tr>\n",
       "      <th>4</th>\n",
       "      <td>2021-02-01 10:00:00.377261</td>\n",
       "      <td>S</td>\n",
       "      <td>75.6025</td>\n",
       "      <td>75.6025</td>\n",
       "      <td>4</td>\n",
       "      <td>2021-02-01</td>\n",
       "      <td>10:00:00.377261</td>\n",
       "      <td>1</td>\n",
       "      <td>10</td>\n",
       "      <td>0.0000</td>\n",
       "      <td>75.602501</td>\n",
       "      <td>75.639999</td>\n",
       "      <td>75.621246</td>\n",
       "      <td>0.0375</td>\n",
       "    </tr>\n",
       "  </tbody>\n",
       "</table>\n",
       "</div>"
      ],
      "text/plain": [
       "                        Time AGGRESSOR_SIDE  PRICE_min  PRICE_max  SIZE_sum  \\\n",
       "0 2021-02-01 10:00:00.271880              B    75.5975    75.6700       663   \n",
       "1 2021-02-01 10:00:00.304507              B    75.6625    75.6625        10   \n",
       "2 2021-02-01 10:00:00.346729              B    75.6575    75.6575         3   \n",
       "3 2021-02-01 10:00:00.360369              S    75.6025    75.6025        20   \n",
       "4 2021-02-01 10:00:00.377261              S    75.6025    75.6025         4   \n",
       "\n",
       "         Date         TimeOnly  DOW   H  Impact        BID        ASK  \\\n",
       "0  2021-02-01  10:00:00.271880    1  10  0.0725  75.565002  75.599998   \n",
       "1  2021-02-01  10:00:00.304507    1  10  0.0000  75.567497  75.662498   \n",
       "2  2021-02-01  10:00:00.346729    1  10  0.0000  75.602501  75.657501   \n",
       "3  2021-02-01  10:00:00.360369    1  10  0.0000  75.602501  75.625000   \n",
       "4  2021-02-01  10:00:00.377261    1  10  0.0000  75.602501  75.639999   \n",
       "\n",
       "         MID  Spread  \n",
       "0  75.582504  0.0350  \n",
       "1  75.614998  0.0950  \n",
       "2  75.630005  0.0550  \n",
       "3  75.613754  0.0225  \n",
       "4  75.621246  0.0375  "
      ]
     },
     "execution_count": 2,
     "metadata": {},
     "output_type": "execute_result"
    }
   ],
   "source": [
    "market_orders = pd.read_feather('market_orders_USDRUB.feather')\n",
    "market_orders[:5]"
   ]
  },
  {
   "cell_type": "code",
   "execution_count": 3,
   "id": "2d5a3312",
   "metadata": {
    "ExecuteTime": {
     "end_time": "2021-12-13T09:17:12.310874Z",
     "start_time": "2021-12-13T09:17:12.269138Z"
    }
   },
   "outputs": [
    {
     "data": {
      "text/html": [
       "<div>\n",
       "<style scoped>\n",
       "    .dataframe tbody tr th:only-of-type {\n",
       "        vertical-align: middle;\n",
       "    }\n",
       "\n",
       "    .dataframe tbody tr th {\n",
       "        vertical-align: top;\n",
       "    }\n",
       "\n",
       "    .dataframe thead th {\n",
       "        text-align: right;\n",
       "    }\n",
       "</style>\n",
       "<table border=\"1\" class=\"dataframe\">\n",
       "  <thead>\n",
       "    <tr style=\"text-align: right;\">\n",
       "      <th></th>\n",
       "      <th>Time</th>\n",
       "      <th>AGGRESSOR_SIDE</th>\n",
       "      <th>PRICE_min</th>\n",
       "      <th>PRICE_max</th>\n",
       "      <th>SIZE_sum</th>\n",
       "      <th>Date</th>\n",
       "      <th>TimeOnly</th>\n",
       "      <th>DOW</th>\n",
       "      <th>H</th>\n",
       "      <th>Impact</th>\n",
       "      <th>BID</th>\n",
       "      <th>ASK</th>\n",
       "      <th>MID</th>\n",
       "      <th>Spread</th>\n",
       "    </tr>\n",
       "  </thead>\n",
       "  <tbody>\n",
       "    <tr>\n",
       "      <th>689269</th>\n",
       "      <td>2021-02-25 17:09:19.253217</td>\n",
       "      <td>S</td>\n",
       "      <td>74.0</td>\n",
       "      <td>74.0</td>\n",
       "      <td>53</td>\n",
       "      <td>2021-02-25</td>\n",
       "      <td>17:09:19.253217</td>\n",
       "      <td>4</td>\n",
       "      <td>17</td>\n",
       "      <td>0.0</td>\n",
       "      <td>74.000000</td>\n",
       "      <td>74.000000</td>\n",
       "      <td>74.000000</td>\n",
       "      <td>0.0</td>\n",
       "    </tr>\n",
       "    <tr>\n",
       "      <th>886002</th>\n",
       "      <td>2021-03-04 14:51:47.420474</td>\n",
       "      <td>B</td>\n",
       "      <td>73.7</td>\n",
       "      <td>73.7</td>\n",
       "      <td>50</td>\n",
       "      <td>2021-03-04</td>\n",
       "      <td>14:51:47.420474</td>\n",
       "      <td>4</td>\n",
       "      <td>14</td>\n",
       "      <td>0.0</td>\n",
       "      <td>73.699997</td>\n",
       "      <td>73.699997</td>\n",
       "      <td>73.699997</td>\n",
       "      <td>0.0</td>\n",
       "    </tr>\n",
       "  </tbody>\n",
       "</table>\n",
       "</div>"
      ],
      "text/plain": [
       "                             Time AGGRESSOR_SIDE  PRICE_min  PRICE_max  \\\n",
       "689269 2021-02-25 17:09:19.253217              S       74.0       74.0   \n",
       "886002 2021-03-04 14:51:47.420474              B       73.7       73.7   \n",
       "\n",
       "        SIZE_sum        Date         TimeOnly  DOW   H  Impact        BID  \\\n",
       "689269        53  2021-02-25  17:09:19.253217    4  17     0.0  74.000000   \n",
       "886002        50  2021-03-04  14:51:47.420474    4  14     0.0  73.699997   \n",
       "\n",
       "              ASK        MID  Spread  \n",
       "689269  74.000000  74.000000     0.0  \n",
       "886002  73.699997  73.699997     0.0  "
      ]
     },
     "execution_count": 3,
     "metadata": {},
     "output_type": "execute_result"
    }
   ],
   "source": [
    "market_orders[market_orders['Spread'] == 0.]"
   ]
  },
  {
   "cell_type": "code",
   "execution_count": 4,
   "id": "7e87d670",
   "metadata": {
    "ExecuteTime": {
     "end_time": "2021-12-13T09:17:13.375369Z",
     "start_time": "2021-12-13T09:17:12.310874Z"
    }
   },
   "outputs": [
    {
     "name": "stderr",
     "output_type": "stream",
     "text": [
      "C:\\Users\\Sharp.Ra\\AppData\\Local\\Temp/ipykernel_16636/163228665.py:8: SettingWithCopyWarning: \n",
      "A value is trying to be set on a copy of a slice from a DataFrame.\n",
      "Try using .loc[row_indexer,col_indexer] = value instead\n",
      "\n",
      "See the caveats in the documentation: https://pandas.pydata.org/pandas-docs/stable/user_guide/indexing.html#returning-a-view-versus-a-copy\n",
      "  df['Spread'] = np.round(df['Spread'] / 0.0025, decimals=0)\n"
     ]
    }
   ],
   "source": [
    "# Filter orders by time and day of week\n",
    "df = market_orders[(market_orders['DOW']<=5) & \n",
    "                   (market_orders['H']>=10) & \n",
    "                   (market_orders['H']<=17) &\n",
    "                   (market_orders['TimeOnly'] > datetime.time(10, 10, 0)) &\n",
    "                   (market_orders['TimeOnly'] < datetime.time(17, 40, 0)) &\n",
    "                   (market_orders['Spread'] != 0)]\n",
    "df['Spread'] = np.round(df['Spread'] / 0.0025, decimals=0)"
   ]
  },
  {
   "cell_type": "code",
   "execution_count": 5,
   "id": "7ad27b1c",
   "metadata": {
    "ExecuteTime": {
     "end_time": "2021-12-13T09:17:15.667566Z",
     "start_time": "2021-12-13T09:17:13.378364Z"
    },
    "scrolled": false
   },
   "outputs": [
    {
     "data": {
      "text/plain": [
       "<AxesSubplot:xlabel='Spread', ylabel='Count'>"
      ]
     },
     "execution_count": 5,
     "metadata": {},
     "output_type": "execute_result"
    },
    {
     "data": {
      "image/png": "[encoded data removed]",
      "text/plain": [
       "<Figure size 1080x360 with 2 Axes>"
      ]
     },
     "metadata": {
      "needs_background": "light"
     },
     "output_type": "display_data"
    }
   ],
   "source": [
    "fig, ax = plt.subplots(1, 2, figsize=(15, 5))\n",
    "\n",
    "sns.histplot(data=df, x='Spread', binwidth=1, ax=ax[0])\n",
    "sns.histplot(data=df[df['Spread']<=7.], x='Spread', binwidth=1, ax=ax[1])"
   ]
  },
  {
   "cell_type": "code",
   "execution_count": 23,
   "id": "b6bcc05f",
   "metadata": {
    "ExecuteTime": {
     "end_time": "2021-12-13T09:25:08.791752Z",
     "start_time": "2021-12-13T09:25:08.707251Z"
    }
   },
   "outputs": [
    {
     "name": "stdout",
     "output_type": "stream",
     "text": [
      "0 - 0.0\n",
      "1 - 16.8\n",
      "2 - 31.0\n",
      "3 - 34.9\n",
      "4 - 13.4\n",
      "5 - 2.9\n",
      "6 - 0.7\n",
      "7 - 0.2\n"
     ]
    }
   ],
   "source": [
    "for i in range(0, 8):\n",
    "    print(f\"{i} - {np.sum(df['Spread']==i) / df.shape[0] * 100:0.1f}\")"
   ]
  },
  {
   "cell_type": "code",
   "execution_count": 24,
   "id": "895828be",
   "metadata": {
    "ExecuteTime": {
     "end_time": "2021-12-13T09:25:25.738715Z",
     "start_time": "2021-12-13T09:25:25.161117Z"
    },
    "scrolled": true
   },
   "outputs": [
    {
     "name": "stdout",
     "output_type": "stream",
     "text": [
      "0.9609907563613183\n",
      "0.9964300429918603\n"
     ]
    }
   ],
   "source": [
    "# Spread range share\n",
    "print(df[df['Spread']<=4].shape[0]/df.shape[0])  # 4 tick\n",
    "print(df[df['Spread']<=6].shape[0]/df.shape[0])  # 6 tick"
   ]
  },
  {
   "cell_type": "code",
   "execution_count": 8,
   "id": "7e9bd85e",
   "metadata": {
    "ExecuteTime": {
     "end_time": "2021-12-13T09:17:22.459553Z",
     "start_time": "2021-12-13T09:17:19.932597Z"
    }
   },
   "outputs": [
    {
     "data": {
      "text/plain": [
       "<AxesSubplot:xlabel='Spread', ylabel='Probability'>"
      ]
     },
     "execution_count": 8,
     "metadata": {},
     "output_type": "execute_result"
    },
    {
     "data": {
      "image/png": "[encoded data removed]",
      "text/plain": [
       "<Figure size 432x432 with 3 Axes>"
      ]
     },
     "metadata": {
      "needs_background": "light"
     },
     "output_type": "display_data"
    }
   ],
   "source": [
    "# Histogram Spreads by Hours\n",
    "g = sns.JointGrid()\n",
    "sns.histplot(data=df, x='Spread', y='H', stat='probability', binwidth=(1, 1), discrete=(True, True), ax=g.ax_joint)\n",
    "sns.histplot(data=df, x='Spread', stat='probability', binwidth=1, ax=g.ax_marg_x)"
   ]
  },
  {
   "cell_type": "code",
   "execution_count": 9,
   "id": "32b66954",
   "metadata": {
    "ExecuteTime": {
     "end_time": "2021-12-13T09:17:24.943583Z",
     "start_time": "2021-12-13T09:17:22.461594Z"
    }
   },
   "outputs": [
    {
     "data": {
      "text/plain": [
       "<AxesSubplot:xlabel='Spread', ylabel='Probability'>"
      ]
     },
     "execution_count": 9,
     "metadata": {},
     "output_type": "execute_result"
    },
    {
     "data": {
      "image/png": "[encoded data removed]",
      "text/plain": [
       "<Figure size 432x432 with 3 Axes>"
      ]
     },
     "metadata": {
      "needs_background": "light"
     },
     "output_type": "display_data"
    }
   ],
   "source": [
    "# Histogram Spreads by Day of Week\n",
    "g = sns.JointGrid()\n",
    "sns.histplot(data=df, x='Spread', y='DOW', stat='probability', binwidth=(1, 1), discrete=(True, True), ax=g.ax_joint)\n",
    "sns.histplot(data=df, x='Spread', stat='probability', binwidth=1, ax=g.ax_marg_x)"
   ]
  },
  {
   "cell_type": "code",
   "execution_count": 25,
   "id": "211fe3e1",
   "metadata": {
    "ExecuteTime": {
     "end_time": "2021-12-13T09:26:16.468241Z",
     "start_time": "2021-12-13T09:26:15.941019Z"
    }
   },
   "outputs": [
    {
     "data": {
      "text/plain": [
       "<AxesSubplot:xlabel='Spread', ylabel='Probability'>"
      ]
     },
     "execution_count": 25,
     "metadata": {},
     "output_type": "execute_result"
    },
    {
     "data": {
      "image/png": "[encoded data removed]",
      "text/plain": [
       "<Figure size 432x432 with 3 Axes>"
      ]
     },
     "metadata": {
      "needs_background": "light"
     },
     "output_type": "display_data"
    }
   ],
   "source": [
    "# Histogram Hour, big spreads\n",
    "g = sns.JointGrid()\n",
    "sns.histplot(data=df[df.Spread>7], x='Spread', y='H', stat='probability', binwidth=(1, 1), discrete=(True, True), \n",
    "             ax=g.ax_joint)\n",
    "sns.histplot(data=df[df.Spread>7], x='Spread', stat='probability', binwidth=1, ax=g.ax_marg_x)"
   ]
  },
  {
   "cell_type": "code",
   "execution_count": null,
   "id": "545e29b3",
   "metadata": {},
   "outputs": [],
   "source": []
  },
  {
   "cell_type": "code",
   "execution_count": 26,
   "id": "402c5e2d",
   "metadata": {
    "ExecuteTime": {
     "end_time": "2021-12-13T09:26:29.084848Z",
     "start_time": "2021-12-13T09:26:28.350577Z"
    }
   },
   "outputs": [
    {
     "data": {
      "text/plain": [
       "array([0.16907321, 0.31100837, 0.35036459, 0.13398757, 0.02894879,\n",
       "       0.00661747])"
      ]
     },
     "execution_count": 26,
     "metadata": {},
     "output_type": "execute_result"
    }
   ],
   "source": [
    "# PMF for spreads (1-6 ticks)\n",
    "spread_pmf = np.array([df[df['Spread'] == k]['Spread'].count() for k in range(1, 7)]) \\\n",
    "    / df[df['Spread'] <= 6]['Spread'].count()\n",
    "spread_pmf"
   ]
  },
  {
   "cell_type": "code",
   "execution_count": 28,
   "id": "cc0b1ab3",
   "metadata": {
    "ExecuteTime": {
     "end_time": "2021-12-13T09:26:36.200441Z",
     "start_time": "2021-12-13T09:26:36.183803Z"
    }
   },
   "outputs": [],
   "source": [
    "# EXPORT\n",
    "np.savez('spreads', spread_pmf)"
   ]
  },
  {
   "cell_type": "code",
   "execution_count": 29,
   "id": "cc58656b",
   "metadata": {
    "ExecuteTime": {
     "end_time": "2021-12-13T09:26:36.817374Z",
     "start_time": "2021-12-13T09:26:36.801624Z"
    }
   },
   "outputs": [
    {
     "data": {
      "text/plain": [
       "array([0.16907321, 0.31100837, 0.35036459, 0.13398757, 0.02894879,\n",
       "       0.00661747])"
      ]
     },
     "execution_count": 29,
     "metadata": {},
     "output_type": "execute_result"
    }
   ],
   "source": [
    "np.load('spreads.npz')['arr_0']"
   ]
  },
  {
   "cell_type": "code",
   "execution_count": null,
   "id": "b89263bb",
   "metadata": {},
   "outputs": [],
   "source": []
  }
 ],
 "metadata": {
  "kernelspec": {
   "display_name": "Python 3 (ipykernel)",
   "language": "python",
   "name": "python3"
  },
  "language_info": {
   "codemirror_mode": {
    "name": "ipython",
    "version": 3
   },
   "file_extension": ".py",
   "mimetype": "text/x-python",
   "name": "python",
   "nbconvert_exporter": "python",
   "pygments_lexer": "ipython3",
   "version": "3.8.12"
  },
  "toc": {
   "base_numbering": 1,
   "nav_menu": {},
   "number_sections": true,
   "sideBar": true,
   "skip_h1_title": false,
   "title_cell": "Table of Contents",
   "title_sidebar": "Contents",
   "toc_cell": false,
   "toc_position": {},
   "toc_section_display": true,
   "toc_window_display": false
  }
 },
 "nbformat": 4,
 "nbformat_minor": 5
}
