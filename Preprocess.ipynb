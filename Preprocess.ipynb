{
 "cells": [
  {
   "cell_type": "code",
   "execution_count": 1,
   "id": "236358d4",
   "metadata": {
    "ExecuteTime": {
     "end_time": "2021-12-16T15:23:49.871329Z",
     "start_time": "2021-12-16T15:23:48.987621Z"
    }
   },
   "outputs": [],
   "source": [
    "import pandas as pd\n",
    "import numpy as np\n",
    "import datetime\n",
    "import numba"
   ]
  },
  {
   "cell_type": "code",
   "execution_count": 2,
   "id": "d530e055",
   "metadata": {
    "ExecuteTime": {
     "end_time": "2021-12-16T15:23:49.908629Z",
     "start_time": "2021-12-16T15:23:49.871329Z"
    }
   },
   "outputs": [],
   "source": [
    "import tqdm"
   ]
  },
  {
   "cell_type": "code",
   "execution_count": null,
   "id": "1dc71422",
   "metadata": {},
   "outputs": [],
   "source": []
  },
  {
   "cell_type": "markdown",
   "id": "fab980bb",
   "metadata": {},
   "source": [
    "Preprocess functions. Also can be imported from preprocess.py"
   ]
  },
  {
   "cell_type": "code",
   "execution_count": 3,
   "id": "cdea4579",
   "metadata": {
    "ExecuteTime": {
     "end_time": "2021-12-16T15:23:51.559285Z",
     "start_time": "2021-12-16T15:23:51.527718Z"
    }
   },
   "outputs": [],
   "source": [
    "# All preprocessing in one function\n",
    "def preprocess_deals_data(data, vol_bins=None, vol_labels=None):\n",
    "    '''\n",
    "    Preprocess dataframe with deals\n",
    "    Consolidate market orders, returns new dataframe\n",
    "    Add features: Day of week, Hour, Time\n",
    "    '''\n",
    "    # aggregate to obtain market order instant impact\n",
    "    # deals with the same time are caused by one market order\n",
    "    data = data.groupby(by=['Time', 'AGGRESSOR_SIDE'], as_index=False) \\\n",
    "        .agg({'PRICE': ['min', 'max'], 'SIZE': 'sum', })\n",
    "    \n",
    "    # Flatten columns (!)\n",
    "    data.columns = ['_'.join(z) if z[1]!='' else z[0] for z in data.columns]\n",
    "    \n",
    "    # Add datetime features\n",
    "    data['Date'] = data['Time'].map(lambda d: d.date())  # only date\n",
    "    data['TimeOnly'] = data['Time'].map(lambda d: d.time())  # only time\n",
    "    data['DOW'] = data['Time'].map(lambda d: d.isoweekday())  # day of week\n",
    "    data['H'] = data['Time'].map(lambda d: d.hour)  # hour (for filtering)\n",
    "    \n",
    "    # Impact calculation\n",
    "    data['Impact'] = data['PRICE_max'] - data['PRICE_min']\n",
    "\n",
    "    return data"
   ]
  },
  {
   "cell_type": "code",
   "execution_count": 4,
   "id": "099f25b3",
   "metadata": {
    "ExecuteTime": {
     "end_time": "2021-12-16T15:23:51.743987Z",
     "start_time": "2021-12-16T15:23:51.674901Z"
    }
   },
   "outputs": [],
   "source": [
    "@numba.njit()\n",
    "def process_day(order_time, time, bid, ask):\n",
    "    '''\n",
    "    Function gets order time array (from deals file), and market bid, ask and time array (from LOB file)\n",
    "    For each element in order time array it finds corresponding bid and ask\n",
    "    Returns arrays of bids ands asks for market orders\n",
    "    '''\n",
    "    j = 0\n",
    "    res_bid = np.zeros_like(order_time, dtype=np.float32)\n",
    "    res_ask = np.zeros_like(order_time, dtype=np.float32)\n",
    "    for i, t in enumerate(order_time):\n",
    "        while time[j] < t:\n",
    "            j += 1\n",
    "        res_bid[i] = bid[j]\n",
    "        res_ask[i] = ask[j]\n",
    "\n",
    "    return res_bid, res_ask"
   ]
  },
  {
   "cell_type": "code",
   "execution_count": 5,
   "id": "51808bb1",
   "metadata": {
    "ExecuteTime": {
     "end_time": "2021-12-16T15:23:52.946879Z",
     "start_time": "2021-12-16T15:23:52.931757Z"
    }
   },
   "outputs": [],
   "source": [
    "def extract_day(dt, orders, LOB_folder, LOB_prefix):\n",
    "    '''\n",
    "    Function gets date, opens corresponding file with LOB history\n",
    "    and return best bid, best ask and time arrays\n",
    "    Also return order history time array from deals file (all in numpy format for numba)\n",
    "    '''\n",
    "    orders_time = orders[orders['Date'] == dt.date()]['Time'].to_numpy()\n",
    "    \n",
    "    fname = LOB_folder + LOB_prefix + dt.strftime('%m%d') + '.feather'  \n",
    "    lob_df = pd.read_feather(fname)\n",
    "    time_lob = lob_df['Time'].to_numpy()\n",
    "    bid_lob = lob_df['BID_PRICE1'].to_numpy()\n",
    "    ask_lob = lob_df['ASK_PRICE1'].to_numpy()\n",
    "    return orders_time, time_lob, bid_lob, ask_lob"
   ]
  },
  {
   "cell_type": "code",
   "execution_count": 6,
   "id": "a12da9e3",
   "metadata": {
    "ExecuteTime": {
     "end_time": "2021-12-16T15:23:53.126570Z",
     "start_time": "2021-12-16T15:23:53.094945Z"
    }
   },
   "outputs": [],
   "source": [
    "def date_range(start_date, end_date, only_workdays=False):\n",
    "    '''\n",
    "    Simple generator to obtain dates in defined date range\n",
    "    '''\n",
    "    for i in range(int((end_date - start_date).days) + 1):\n",
    "        dt = start_date + datetime.timedelta(days=i)\n",
    "        if only_workdays and dt.isoweekday() in [6, 7]:\n",
    "            continue\n",
    "        yield start_date + datetime.timedelta(days=i)"
   ]
  },
  {
   "cell_type": "code",
   "execution_count": 7,
   "id": "ffcb968d",
   "metadata": {
    "ExecuteTime": {
     "end_time": "2021-12-16T15:23:53.404477Z",
     "start_time": "2021-12-16T15:23:53.363131Z"
    }
   },
   "outputs": [],
   "source": [
    "def add_lob_prices(market_orders, start_date, end_date, LOB_folder, LOB_prefix):\n",
    "    '''\n",
    "    Function processes market order dataframe and add bid and ask columns\n",
    "    Returns new dataframe\n",
    "    '''\n",
    "    for dt in tqdm.tqdm_notebook(date_range(start_date, end_date, only_workdays=True), \n",
    "                                 total=int((end_date-start_date).days)+1):\n",
    "        fname = LOB_folder + LOB_prefix + dt.strftime('%m%d') + '.feather'\n",
    "        print(fname)\n",
    "        try:\n",
    "            lob_df = pd.read_feather(fname)\n",
    "        except FileNotFoundError:\n",
    "            print(f\"{dt} skipped\")\n",
    "            continue\n",
    "\n",
    "        if lob_df.shape[0] == 0:\n",
    "            print(f\"{fname} no quotes\")\n",
    "            continue\n",
    "\n",
    "        order_time, lob_time, lob_bid, lob_ask = extract_day(dt, market_orders, LOB_folder, LOB_prefix)\n",
    "        order_bid, order_ask = process_day(order_time, lob_time, lob_bid, lob_ask)\n",
    "\n",
    "        market_orders.loc[market_orders['Date'] == dt.date(), 'BID'] = order_bid\n",
    "        market_orders.loc[market_orders['Date'] == dt.date(), 'ASK'] = order_ask\n",
    "    \n",
    "    market_orders['MID'] = (market_orders['BID'] + market_orders['ASK']) / 2\n",
    "    market_orders['Spread'] = np.round(market_orders['ASK'] - market_orders['BID'], decimals=4)\n",
    "    \n",
    "    return market_orders"
   ]
  },
  {
   "cell_type": "code",
   "execution_count": null,
   "id": "41444a65",
   "metadata": {},
   "outputs": [],
   "source": []
  },
  {
   "cell_type": "markdown",
   "id": "a2b7e728",
   "metadata": {},
   "source": [
    "## USDRUB data preprocessing"
   ]
  },
  {
   "cell_type": "code",
   "execution_count": 8,
   "id": "9a126e7e",
   "metadata": {
    "ExecuteTime": {
     "end_time": "2021-12-16T15:23:55.814129Z",
     "start_time": "2021-12-16T15:23:55.199520Z"
    }
   },
   "outputs": [],
   "source": [
    "data = pd.read_feather('Data/USDRUB_TOM_trades.feather')  # load market order deals file"
   ]
  },
  {
   "cell_type": "code",
   "execution_count": 9,
   "id": "f6e0aaa1",
   "metadata": {
    "ExecuteTime": {
     "end_time": "2021-12-16T15:23:55.859672Z",
     "start_time": "2021-12-16T15:23:55.816198Z"
    }
   },
   "outputs": [
    {
     "data": {
      "text/html": [
       "<div>\n",
       "<style scoped>\n",
       "    .dataframe tbody tr th:only-of-type {\n",
       "        vertical-align: middle;\n",
       "    }\n",
       "\n",
       "    .dataframe tbody tr th {\n",
       "        vertical-align: top;\n",
       "    }\n",
       "\n",
       "    .dataframe thead th {\n",
       "        text-align: right;\n",
       "    }\n",
       "</style>\n",
       "<table border=\"1\" class=\"dataframe\">\n",
       "  <thead>\n",
       "    <tr style=\"text-align: right;\">\n",
       "      <th></th>\n",
       "      <th>Time</th>\n",
       "      <th>PRICE</th>\n",
       "      <th>SIZE</th>\n",
       "      <th>AGGRESSOR_SIDE</th>\n",
       "      <th>TRADE_VALUE</th>\n",
       "    </tr>\n",
       "  </thead>\n",
       "  <tbody>\n",
       "    <tr>\n",
       "      <th>0</th>\n",
       "      <td>2021-02-01 10:00:00.271880</td>\n",
       "      <td>75.5975</td>\n",
       "      <td>100</td>\n",
       "      <td>B</td>\n",
       "      <td>7559750.0</td>\n",
       "    </tr>\n",
       "    <tr>\n",
       "      <th>1</th>\n",
       "      <td>2021-02-01 10:00:00.271880</td>\n",
       "      <td>75.6000</td>\n",
       "      <td>500</td>\n",
       "      <td>B</td>\n",
       "      <td>37800000.0</td>\n",
       "    </tr>\n",
       "    <tr>\n",
       "      <th>2</th>\n",
       "      <td>2021-02-01 10:00:00.271880</td>\n",
       "      <td>75.6700</td>\n",
       "      <td>63</td>\n",
       "      <td>B</td>\n",
       "      <td>4767210.0</td>\n",
       "    </tr>\n",
       "    <tr>\n",
       "      <th>3</th>\n",
       "      <td>2021-02-01 10:00:00.304507</td>\n",
       "      <td>75.6625</td>\n",
       "      <td>10</td>\n",
       "      <td>B</td>\n",
       "      <td>756625.0</td>\n",
       "    </tr>\n",
       "    <tr>\n",
       "      <th>4</th>\n",
       "      <td>2021-02-01 10:00:00.346729</td>\n",
       "      <td>75.6575</td>\n",
       "      <td>3</td>\n",
       "      <td>B</td>\n",
       "      <td>226972.5</td>\n",
       "    </tr>\n",
       "  </tbody>\n",
       "</table>\n",
       "</div>"
      ],
      "text/plain": [
       "                        Time    PRICE  SIZE AGGRESSOR_SIDE  TRADE_VALUE\n",
       "0 2021-02-01 10:00:00.271880  75.5975   100              B    7559750.0\n",
       "1 2021-02-01 10:00:00.271880  75.6000   500              B   37800000.0\n",
       "2 2021-02-01 10:00:00.271880  75.6700    63              B    4767210.0\n",
       "3 2021-02-01 10:00:00.304507  75.6625    10              B     756625.0\n",
       "4 2021-02-01 10:00:00.346729  75.6575     3              B     226972.5"
      ]
     },
     "execution_count": 9,
     "metadata": {},
     "output_type": "execute_result"
    }
   ],
   "source": [
    "data[:5]"
   ]
  },
  {
   "cell_type": "code",
   "execution_count": 10,
   "id": "ae705621",
   "metadata": {
    "ExecuteTime": {
     "end_time": "2021-12-16T15:25:28.310291Z",
     "start_time": "2021-12-16T15:23:57.152894Z"
    }
   },
   "outputs": [
    {
     "data": {
      "text/html": [
       "<div>\n",
       "<style scoped>\n",
       "    .dataframe tbody tr th:only-of-type {\n",
       "        vertical-align: middle;\n",
       "    }\n",
       "\n",
       "    .dataframe tbody tr th {\n",
       "        vertical-align: top;\n",
       "    }\n",
       "\n",
       "    .dataframe thead th {\n",
       "        text-align: right;\n",
       "    }\n",
       "</style>\n",
       "<table border=\"1\" class=\"dataframe\">\n",
       "  <thead>\n",
       "    <tr style=\"text-align: right;\">\n",
       "      <th></th>\n",
       "      <th>Time</th>\n",
       "      <th>AGGRESSOR_SIDE</th>\n",
       "      <th>PRICE_min</th>\n",
       "      <th>PRICE_max</th>\n",
       "      <th>SIZE_sum</th>\n",
       "      <th>Date</th>\n",
       "      <th>TimeOnly</th>\n",
       "      <th>DOW</th>\n",
       "      <th>H</th>\n",
       "      <th>Impact</th>\n",
       "    </tr>\n",
       "  </thead>\n",
       "  <tbody>\n",
       "    <tr>\n",
       "      <th>0</th>\n",
       "      <td>2021-02-01 10:00:00.271880</td>\n",
       "      <td>B</td>\n",
       "      <td>75.5975</td>\n",
       "      <td>75.6700</td>\n",
       "      <td>663</td>\n",
       "      <td>2021-02-01</td>\n",
       "      <td>10:00:00.271880</td>\n",
       "      <td>1</td>\n",
       "      <td>10</td>\n",
       "      <td>0.0725</td>\n",
       "    </tr>\n",
       "    <tr>\n",
       "      <th>1</th>\n",
       "      <td>2021-02-01 10:00:00.304507</td>\n",
       "      <td>B</td>\n",
       "      <td>75.6625</td>\n",
       "      <td>75.6625</td>\n",
       "      <td>10</td>\n",
       "      <td>2021-02-01</td>\n",
       "      <td>10:00:00.304507</td>\n",
       "      <td>1</td>\n",
       "      <td>10</td>\n",
       "      <td>0.0000</td>\n",
       "    </tr>\n",
       "    <tr>\n",
       "      <th>2</th>\n",
       "      <td>2021-02-01 10:00:00.346729</td>\n",
       "      <td>B</td>\n",
       "      <td>75.6575</td>\n",
       "      <td>75.6575</td>\n",
       "      <td>3</td>\n",
       "      <td>2021-02-01</td>\n",
       "      <td>10:00:00.346729</td>\n",
       "      <td>1</td>\n",
       "      <td>10</td>\n",
       "      <td>0.0000</td>\n",
       "    </tr>\n",
       "    <tr>\n",
       "      <th>3</th>\n",
       "      <td>2021-02-01 10:00:00.360369</td>\n",
       "      <td>S</td>\n",
       "      <td>75.6025</td>\n",
       "      <td>75.6025</td>\n",
       "      <td>20</td>\n",
       "      <td>2021-02-01</td>\n",
       "      <td>10:00:00.360369</td>\n",
       "      <td>1</td>\n",
       "      <td>10</td>\n",
       "      <td>0.0000</td>\n",
       "    </tr>\n",
       "    <tr>\n",
       "      <th>4</th>\n",
       "      <td>2021-02-01 10:00:00.377261</td>\n",
       "      <td>S</td>\n",
       "      <td>75.6025</td>\n",
       "      <td>75.6025</td>\n",
       "      <td>4</td>\n",
       "      <td>2021-02-01</td>\n",
       "      <td>10:00:00.377261</td>\n",
       "      <td>1</td>\n",
       "      <td>10</td>\n",
       "      <td>0.0000</td>\n",
       "    </tr>\n",
       "  </tbody>\n",
       "</table>\n",
       "</div>"
      ],
      "text/plain": [
       "                        Time AGGRESSOR_SIDE  PRICE_min  PRICE_max  SIZE_sum  \\\n",
       "0 2021-02-01 10:00:00.271880              B    75.5975    75.6700       663   \n",
       "1 2021-02-01 10:00:00.304507              B    75.6625    75.6625        10   \n",
       "2 2021-02-01 10:00:00.346729              B    75.6575    75.6575         3   \n",
       "3 2021-02-01 10:00:00.360369              S    75.6025    75.6025        20   \n",
       "4 2021-02-01 10:00:00.377261              S    75.6025    75.6025         4   \n",
       "\n",
       "         Date         TimeOnly  DOW   H  Impact  \n",
       "0  2021-02-01  10:00:00.271880    1  10  0.0725  \n",
       "1  2021-02-01  10:00:00.304507    1  10  0.0000  \n",
       "2  2021-02-01  10:00:00.346729    1  10  0.0000  \n",
       "3  2021-02-01  10:00:00.360369    1  10  0.0000  \n",
       "4  2021-02-01  10:00:00.377261    1  10  0.0000  "
      ]
     },
     "execution_count": 10,
     "metadata": {},
     "output_type": "execute_result"
    }
   ],
   "source": [
    "market_orders = preprocess_deals_data(data)  # grouping and add features\n",
    "market_orders[:5]"
   ]
  },
  {
   "cell_type": "code",
   "execution_count": 11,
   "id": "73454394",
   "metadata": {
    "ExecuteTime": {
     "end_time": "2021-12-16T15:25:28.379219Z",
     "start_time": "2021-12-16T15:25:28.310291Z"
    }
   },
   "outputs": [
    {
     "name": "stdout",
     "output_type": "stream",
     "text": [
      "2021-02-01 10:00:00.271880\n",
      "2021-10-06 23:49:57.338028\n",
      "(4912952, 10)\n"
     ]
    }
   ],
   "source": [
    "print(market_orders['Time'].min())\n",
    "print(market_orders['Time'].max())\n",
    "print(market_orders.shape)"
   ]
  },
  {
   "cell_type": "code",
   "execution_count": null,
   "id": "ab630734",
   "metadata": {},
   "outputs": [],
   "source": []
  },
  {
   "cell_type": "code",
   "execution_count": 12,
   "id": "bb4c98df",
   "metadata": {
    "ExecuteTime": {
     "end_time": "2021-12-16T15:32:58.866149Z",
     "start_time": "2021-12-16T15:32:58.823641Z"
    }
   },
   "outputs": [],
   "source": [
    "# Add bid and ask prices for a moments of deals from LOB history files\n",
    "LOB_folder = 'Data/LOB_USDRUB/'\n",
    "LOB_prefix = 'LOB_'\n",
    "start_date = datetime.datetime.strptime('2021-02-01', '%Y-%m-%d')\n",
    "end_date = datetime.datetime.strptime('2021-10-06', '%Y-%m-%d')"
   ]
  },
  {
   "cell_type": "code",
   "execution_count": 13,
   "id": "b82c6ca8",
   "metadata": {
    "ExecuteTime": {
     "end_time": "2021-12-16T15:37:18.579490Z",
     "start_time": "2021-12-16T15:32:59.725873Z"
    },
    "scrolled": true
   },
   "outputs": [
    {
     "name": "stderr",
     "output_type": "stream",
     "text": [
      "C:\\Users\\Sharp.Ra\\AppData\\Local\\Temp/ipykernel_19712/3349744981.py:6: TqdmDeprecationWarning: This function will be removed in tqdm==5.0.0\n",
      "Please use `tqdm.notebook.tqdm` instead of `tqdm.tqdm_notebook`\n",
      "  for dt in tqdm.tqdm_notebook(date_range(start_date, end_date, only_workdays=True),\n"
     ]
    },
    {
     "data": {
      "application/vnd.jupyter.widget-view+json": {
       "model_id": "f07d3c8bcb1a43ac838cc48de136753a",
       "version_major": 2,
       "version_minor": 0
      },
      "text/plain": [
       "  0%|          | 0/248 [00:00<?, ?it/s]"
      ]
     },
     "metadata": {},
     "output_type": "display_data"
    },
    {
     "name": "stdout",
     "output_type": "stream",
     "text": [
      "Data/LOB_USDRUB/LOB_0201.feather\n",
      "Data/LOB_USDRUB/LOB_0202.feather\n",
      "Data/LOB_USDRUB/LOB_0203.feather\n",
      "Data/LOB_USDRUB/LOB_0204.feather\n",
      "Data/LOB_USDRUB/LOB_0205.feather\n",
      "Data/LOB_USDRUB/LOB_0208.feather\n",
      "Data/LOB_USDRUB/LOB_0209.feather\n",
      "Data/LOB_USDRUB/LOB_0210.feather\n",
      "Data/LOB_USDRUB/LOB_0211.feather\n",
      "Data/LOB_USDRUB/LOB_0212.feather\n",
      "Data/LOB_USDRUB/LOB_0215.feather\n",
      "Data/LOB_USDRUB/LOB_0216.feather\n",
      "Data/LOB_USDRUB/LOB_0217.feather\n",
      "Data/LOB_USDRUB/LOB_0218.feather\n",
      "Data/LOB_USDRUB/LOB_0219.feather\n",
      "Data/LOB_USDRUB/LOB_0222.feather\n",
      "Data/LOB_USDRUB/LOB_0223.feather\n",
      "Data/LOB_USDRUB/LOB_0223.feather no quotes\n",
      "Data/LOB_USDRUB/LOB_0224.feather\n",
      "Data/LOB_USDRUB/LOB_0225.feather\n",
      "Data/LOB_USDRUB/LOB_0226.feather\n",
      "Data/LOB_USDRUB/LOB_0301.feather\n",
      "Data/LOB_USDRUB/LOB_0302.feather\n",
      "Data/LOB_USDRUB/LOB_0303.feather\n",
      "Data/LOB_USDRUB/LOB_0304.feather\n",
      "Data/LOB_USDRUB/LOB_0305.feather\n",
      "Data/LOB_USDRUB/LOB_0308.feather\n",
      "Data/LOB_USDRUB/LOB_0308.feather no quotes\n",
      "Data/LOB_USDRUB/LOB_0309.feather\n",
      "Data/LOB_USDRUB/LOB_0310.feather\n",
      "Data/LOB_USDRUB/LOB_0311.feather\n",
      "Data/LOB_USDRUB/LOB_0312.feather\n",
      "Data/LOB_USDRUB/LOB_0315.feather\n",
      "Data/LOB_USDRUB/LOB_0316.feather\n",
      "Data/LOB_USDRUB/LOB_0317.feather\n",
      "Data/LOB_USDRUB/LOB_0318.feather\n",
      "Data/LOB_USDRUB/LOB_0319.feather\n",
      "Data/LOB_USDRUB/LOB_0322.feather\n",
      "Data/LOB_USDRUB/LOB_0323.feather\n",
      "Data/LOB_USDRUB/LOB_0324.feather\n",
      "Data/LOB_USDRUB/LOB_0325.feather\n",
      "Data/LOB_USDRUB/LOB_0326.feather\n",
      "Data/LOB_USDRUB/LOB_0329.feather\n",
      "Data/LOB_USDRUB/LOB_0330.feather\n",
      "Data/LOB_USDRUB/LOB_0330.feather no quotes\n",
      "Data/LOB_USDRUB/LOB_0331.feather\n",
      "Data/LOB_USDRUB/LOB_0401.feather\n",
      "Data/LOB_USDRUB/LOB_0402.feather\n",
      "Data/LOB_USDRUB/LOB_0405.feather\n",
      "Data/LOB_USDRUB/LOB_0406.feather\n",
      "Data/LOB_USDRUB/LOB_0407.feather\n",
      "Data/LOB_USDRUB/LOB_0408.feather\n",
      "Data/LOB_USDRUB/LOB_0409.feather\n",
      "Data/LOB_USDRUB/LOB_0412.feather\n",
      "Data/LOB_USDRUB/LOB_0413.feather\n",
      "Data/LOB_USDRUB/LOB_0414.feather\n",
      "Data/LOB_USDRUB/LOB_0415.feather\n",
      "Data/LOB_USDRUB/LOB_0416.feather\n",
      "Data/LOB_USDRUB/LOB_0419.feather\n",
      "Data/LOB_USDRUB/LOB_0420.feather\n",
      "Data/LOB_USDRUB/LOB_0421.feather\n",
      "Data/LOB_USDRUB/LOB_0422.feather\n",
      "Data/LOB_USDRUB/LOB_0423.feather\n",
      "Data/LOB_USDRUB/LOB_0426.feather\n",
      "Data/LOB_USDRUB/LOB_0427.feather\n",
      "Data/LOB_USDRUB/LOB_0428.feather\n",
      "Data/LOB_USDRUB/LOB_0429.feather\n",
      "Data/LOB_USDRUB/LOB_0430.feather\n",
      "Data/LOB_USDRUB/LOB_0503.feather\n",
      "Data/LOB_USDRUB/LOB_0503.feather no quotes\n",
      "Data/LOB_USDRUB/LOB_0504.feather\n",
      "Data/LOB_USDRUB/LOB_0505.feather\n",
      "Data/LOB_USDRUB/LOB_0506.feather\n",
      "Data/LOB_USDRUB/LOB_0507.feather\n",
      "Data/LOB_USDRUB/LOB_0510.feather\n",
      "Data/LOB_USDRUB/LOB_0511.feather\n",
      "Data/LOB_USDRUB/LOB_0512.feather\n",
      "Data/LOB_USDRUB/LOB_0513.feather\n",
      "Data/LOB_USDRUB/LOB_0514.feather\n",
      "Data/LOB_USDRUB/LOB_0517.feather\n",
      "Data/LOB_USDRUB/LOB_0518.feather\n",
      "Data/LOB_USDRUB/LOB_0519.feather\n",
      "Data/LOB_USDRUB/LOB_0520.feather\n",
      "Data/LOB_USDRUB/LOB_0521.feather\n",
      "Data/LOB_USDRUB/LOB_0524.feather\n",
      "Data/LOB_USDRUB/LOB_0525.feather\n",
      "Data/LOB_USDRUB/LOB_0526.feather\n",
      "Data/LOB_USDRUB/LOB_0527.feather\n",
      "Data/LOB_USDRUB/LOB_0528.feather\n",
      "Data/LOB_USDRUB/LOB_0531.feather\n",
      "Data/LOB_USDRUB/LOB_0601.feather\n",
      "Data/LOB_USDRUB/LOB_0602.feather\n",
      "Data/LOB_USDRUB/LOB_0603.feather\n",
      "Data/LOB_USDRUB/LOB_0604.feather\n",
      "Data/LOB_USDRUB/LOB_0607.feather\n",
      "Data/LOB_USDRUB/LOB_0608.feather\n",
      "Data/LOB_USDRUB/LOB_0609.feather\n",
      "Data/LOB_USDRUB/LOB_0610.feather\n",
      "Data/LOB_USDRUB/LOB_0611.feather\n",
      "Data/LOB_USDRUB/LOB_0614.feather\n",
      "Data/LOB_USDRUB/LOB_0615.feather\n",
      "Data/LOB_USDRUB/LOB_0616.feather\n",
      "Data/LOB_USDRUB/LOB_0617.feather\n",
      "Data/LOB_USDRUB/LOB_0618.feather\n",
      "Data/LOB_USDRUB/LOB_0621.feather\n",
      "Data/LOB_USDRUB/LOB_0622.feather\n",
      "Data/LOB_USDRUB/LOB_0623.feather\n",
      "Data/LOB_USDRUB/LOB_0624.feather\n",
      "Data/LOB_USDRUB/LOB_0625.feather\n",
      "Data/LOB_USDRUB/LOB_0628.feather\n",
      "Data/LOB_USDRUB/LOB_0629.feather\n",
      "Data/LOB_USDRUB/LOB_0630.feather\n",
      "Data/LOB_USDRUB/LOB_0701.feather\n",
      "Data/LOB_USDRUB/LOB_0702.feather\n",
      "Data/LOB_USDRUB/LOB_0705.feather\n",
      "Data/LOB_USDRUB/LOB_0706.feather\n",
      "Data/LOB_USDRUB/LOB_0707.feather\n",
      "Data/LOB_USDRUB/LOB_0708.feather\n",
      "Data/LOB_USDRUB/LOB_0709.feather\n",
      "Data/LOB_USDRUB/LOB_0712.feather\n",
      "Data/LOB_USDRUB/LOB_0713.feather\n",
      "Data/LOB_USDRUB/LOB_0714.feather\n",
      "Data/LOB_USDRUB/LOB_0715.feather\n",
      "Data/LOB_USDRUB/LOB_0716.feather\n",
      "Data/LOB_USDRUB/LOB_0719.feather\n",
      "Data/LOB_USDRUB/LOB_0720.feather\n",
      "Data/LOB_USDRUB/LOB_0721.feather\n",
      "Data/LOB_USDRUB/LOB_0722.feather\n",
      "Data/LOB_USDRUB/LOB_0723.feather\n",
      "Data/LOB_USDRUB/LOB_0726.feather\n",
      "Data/LOB_USDRUB/LOB_0727.feather\n",
      "Data/LOB_USDRUB/LOB_0728.feather\n",
      "Data/LOB_USDRUB/LOB_0729.feather\n",
      "Data/LOB_USDRUB/LOB_0730.feather\n",
      "Data/LOB_USDRUB/LOB_0802.feather\n",
      "Data/LOB_USDRUB/LOB_0803.feather\n",
      "Data/LOB_USDRUB/LOB_0804.feather\n",
      "Data/LOB_USDRUB/LOB_0805.feather\n",
      "Data/LOB_USDRUB/LOB_0806.feather\n",
      "Data/LOB_USDRUB/LOB_0809.feather\n",
      "Data/LOB_USDRUB/LOB_0810.feather\n",
      "Data/LOB_USDRUB/LOB_0811.feather\n",
      "Data/LOB_USDRUB/LOB_0812.feather\n",
      "Data/LOB_USDRUB/LOB_0813.feather\n",
      "Data/LOB_USDRUB/LOB_0816.feather\n",
      "Data/LOB_USDRUB/LOB_0817.feather\n",
      "Data/LOB_USDRUB/LOB_0818.feather\n",
      "Data/LOB_USDRUB/LOB_0819.feather\n",
      "Data/LOB_USDRUB/LOB_0820.feather\n",
      "Data/LOB_USDRUB/LOB_0823.feather\n",
      "Data/LOB_USDRUB/LOB_0824.feather\n",
      "Data/LOB_USDRUB/LOB_0825.feather\n",
      "Data/LOB_USDRUB/LOB_0826.feather\n",
      "Data/LOB_USDRUB/LOB_0827.feather\n",
      "Data/LOB_USDRUB/LOB_0830.feather\n",
      "Data/LOB_USDRUB/LOB_0831.feather\n",
      "Data/LOB_USDRUB/LOB_0901.feather\n",
      "Data/LOB_USDRUB/LOB_0902.feather\n",
      "Data/LOB_USDRUB/LOB_0903.feather\n",
      "Data/LOB_USDRUB/LOB_0906.feather\n",
      "Data/LOB_USDRUB/LOB_0907.feather\n",
      "Data/LOB_USDRUB/LOB_0908.feather\n",
      "Data/LOB_USDRUB/LOB_0909.feather\n",
      "Data/LOB_USDRUB/LOB_0910.feather\n",
      "Data/LOB_USDRUB/LOB_0913.feather\n",
      "Data/LOB_USDRUB/LOB_0914.feather\n",
      "Data/LOB_USDRUB/LOB_0915.feather\n",
      "Data/LOB_USDRUB/LOB_0916.feather\n",
      "Data/LOB_USDRUB/LOB_0917.feather\n",
      "Data/LOB_USDRUB/LOB_0920.feather\n",
      "Data/LOB_USDRUB/LOB_0921.feather\n",
      "Data/LOB_USDRUB/LOB_0922.feather\n",
      "Data/LOB_USDRUB/LOB_0923.feather\n",
      "Data/LOB_USDRUB/LOB_0923.feather no quotes\n",
      "Data/LOB_USDRUB/LOB_0924.feather\n",
      "Data/LOB_USDRUB/LOB_0927.feather\n",
      "Data/LOB_USDRUB/LOB_0928.feather\n",
      "Data/LOB_USDRUB/LOB_0929.feather\n",
      "Data/LOB_USDRUB/LOB_0930.feather\n",
      "Data/LOB_USDRUB/LOB_1001.feather\n",
      "Data/LOB_USDRUB/LOB_1004.feather\n",
      "Data/LOB_USDRUB/LOB_1005.feather\n",
      "Data/LOB_USDRUB/LOB_1006.feather\n"
     ]
    }
   ],
   "source": [
    "market_orders = add_lob_prices(market_orders, start_date, end_date, LOB_folder, LOB_prefix)"
   ]
  },
  {
   "cell_type": "code",
   "execution_count": 14,
   "id": "1d8b86b2",
   "metadata": {
    "ExecuteTime": {
     "end_time": "2021-12-16T15:37:18.622221Z",
     "start_time": "2021-12-16T15:37:18.579490Z"
    },
    "scrolled": true
   },
   "outputs": [
    {
     "data": {
      "text/html": [
       "<div>\n",
       "<style scoped>\n",
       "    .dataframe tbody tr th:only-of-type {\n",
       "        vertical-align: middle;\n",
       "    }\n",
       "\n",
       "    .dataframe tbody tr th {\n",
       "        vertical-align: top;\n",
       "    }\n",
       "\n",
       "    .dataframe thead th {\n",
       "        text-align: right;\n",
       "    }\n",
       "</style>\n",
       "<table border=\"1\" class=\"dataframe\">\n",
       "  <thead>\n",
       "    <tr style=\"text-align: right;\">\n",
       "      <th></th>\n",
       "      <th>Time</th>\n",
       "      <th>AGGRESSOR_SIDE</th>\n",
       "      <th>PRICE_min</th>\n",
       "      <th>PRICE_max</th>\n",
       "      <th>SIZE_sum</th>\n",
       "      <th>Date</th>\n",
       "      <th>TimeOnly</th>\n",
       "      <th>DOW</th>\n",
       "      <th>H</th>\n",
       "      <th>Impact</th>\n",
       "      <th>BID</th>\n",
       "      <th>ASK</th>\n",
       "      <th>MID</th>\n",
       "      <th>Spread</th>\n",
       "    </tr>\n",
       "  </thead>\n",
       "  <tbody>\n",
       "    <tr>\n",
       "      <th>0</th>\n",
       "      <td>2021-02-01 10:00:00.271880</td>\n",
       "      <td>B</td>\n",
       "      <td>75.5975</td>\n",
       "      <td>75.6700</td>\n",
       "      <td>663</td>\n",
       "      <td>2021-02-01</td>\n",
       "      <td>10:00:00.271880</td>\n",
       "      <td>1</td>\n",
       "      <td>10</td>\n",
       "      <td>0.0725</td>\n",
       "      <td>75.565002</td>\n",
       "      <td>75.599998</td>\n",
       "      <td>75.582504</td>\n",
       "      <td>0.0350</td>\n",
       "    </tr>\n",
       "    <tr>\n",
       "      <th>1</th>\n",
       "      <td>2021-02-01 10:00:00.304507</td>\n",
       "      <td>B</td>\n",
       "      <td>75.6625</td>\n",
       "      <td>75.6625</td>\n",
       "      <td>10</td>\n",
       "      <td>2021-02-01</td>\n",
       "      <td>10:00:00.304507</td>\n",
       "      <td>1</td>\n",
       "      <td>10</td>\n",
       "      <td>0.0000</td>\n",
       "      <td>75.567497</td>\n",
       "      <td>75.662498</td>\n",
       "      <td>75.614998</td>\n",
       "      <td>0.0950</td>\n",
       "    </tr>\n",
       "    <tr>\n",
       "      <th>2</th>\n",
       "      <td>2021-02-01 10:00:00.346729</td>\n",
       "      <td>B</td>\n",
       "      <td>75.6575</td>\n",
       "      <td>75.6575</td>\n",
       "      <td>3</td>\n",
       "      <td>2021-02-01</td>\n",
       "      <td>10:00:00.346729</td>\n",
       "      <td>1</td>\n",
       "      <td>10</td>\n",
       "      <td>0.0000</td>\n",
       "      <td>75.602501</td>\n",
       "      <td>75.657501</td>\n",
       "      <td>75.630005</td>\n",
       "      <td>0.0550</td>\n",
       "    </tr>\n",
       "    <tr>\n",
       "      <th>3</th>\n",
       "      <td>2021-02-01 10:00:00.360369</td>\n",
       "      <td>S</td>\n",
       "      <td>75.6025</td>\n",
       "      <td>75.6025</td>\n",
       "      <td>20</td>\n",
       "      <td>2021-02-01</td>\n",
       "      <td>10:00:00.360369</td>\n",
       "      <td>1</td>\n",
       "      <td>10</td>\n",
       "      <td>0.0000</td>\n",
       "      <td>75.602501</td>\n",
       "      <td>75.625000</td>\n",
       "      <td>75.613754</td>\n",
       "      <td>0.0225</td>\n",
       "    </tr>\n",
       "    <tr>\n",
       "      <th>4</th>\n",
       "      <td>2021-02-01 10:00:00.377261</td>\n",
       "      <td>S</td>\n",
       "      <td>75.6025</td>\n",
       "      <td>75.6025</td>\n",
       "      <td>4</td>\n",
       "      <td>2021-02-01</td>\n",
       "      <td>10:00:00.377261</td>\n",
       "      <td>1</td>\n",
       "      <td>10</td>\n",
       "      <td>0.0000</td>\n",
       "      <td>75.602501</td>\n",
       "      <td>75.639999</td>\n",
       "      <td>75.621246</td>\n",
       "      <td>0.0375</td>\n",
       "    </tr>\n",
       "  </tbody>\n",
       "</table>\n",
       "</div>"
      ],
      "text/plain": [
       "                        Time AGGRESSOR_SIDE  PRICE_min  PRICE_max  SIZE_sum  \\\n",
       "0 2021-02-01 10:00:00.271880              B    75.5975    75.6700       663   \n",
       "1 2021-02-01 10:00:00.304507              B    75.6625    75.6625        10   \n",
       "2 2021-02-01 10:00:00.346729              B    75.6575    75.6575         3   \n",
       "3 2021-02-01 10:00:00.360369              S    75.6025    75.6025        20   \n",
       "4 2021-02-01 10:00:00.377261              S    75.6025    75.6025         4   \n",
       "\n",
       "         Date         TimeOnly  DOW   H  Impact        BID        ASK  \\\n",
       "0  2021-02-01  10:00:00.271880    1  10  0.0725  75.565002  75.599998   \n",
       "1  2021-02-01  10:00:00.304507    1  10  0.0000  75.567497  75.662498   \n",
       "2  2021-02-01  10:00:00.346729    1  10  0.0000  75.602501  75.657501   \n",
       "3  2021-02-01  10:00:00.360369    1  10  0.0000  75.602501  75.625000   \n",
       "4  2021-02-01  10:00:00.377261    1  10  0.0000  75.602501  75.639999   \n",
       "\n",
       "         MID  Spread  \n",
       "0  75.582504  0.0350  \n",
       "1  75.614998  0.0950  \n",
       "2  75.630005  0.0550  \n",
       "3  75.613754  0.0225  \n",
       "4  75.621246  0.0375  "
      ]
     },
     "execution_count": 14,
     "metadata": {},
     "output_type": "execute_result"
    }
   ],
   "source": [
    "market_orders[:5]"
   ]
  },
  {
   "cell_type": "code",
   "execution_count": 21,
   "id": "30d358ae",
   "metadata": {
    "ExecuteTime": {
     "end_time": "2021-12-08T19:13:20.858469Z",
     "start_time": "2021-12-08T19:13:19.784026Z"
    }
   },
   "outputs": [],
   "source": [
    "# Save results\n",
    "market_orders.to_feather('market_orders_USDRUB.feather')"
   ]
  },
  {
   "cell_type": "code",
   "execution_count": null,
   "id": "bf1d36ef",
   "metadata": {},
   "outputs": [],
   "source": []
  },
  {
   "cell_type": "markdown",
   "id": "723ae19c",
   "metadata": {},
   "source": [
    "## EURRUB data preprocessing"
   ]
  },
  {
   "cell_type": "code",
   "execution_count": 22,
   "id": "61f0e896",
   "metadata": {
    "ExecuteTime": {
     "end_time": "2021-12-08T19:13:25.558141Z",
     "start_time": "2021-12-08T19:13:25.458025Z"
    }
   },
   "outputs": [],
   "source": [
    "data = pd.read_feather('Data/EURRUB_TOM_trades.feather')"
   ]
  },
  {
   "cell_type": "code",
   "execution_count": 23,
   "id": "0b9233e2",
   "metadata": {
    "ExecuteTime": {
     "end_time": "2021-12-08T19:13:25.674851Z",
     "start_time": "2021-12-08T19:13:25.642871Z"
    }
   },
   "outputs": [
    {
     "data": {
      "text/html": [
       "<div>\n",
       "<style scoped>\n",
       "    .dataframe tbody tr th:only-of-type {\n",
       "        vertical-align: middle;\n",
       "    }\n",
       "\n",
       "    .dataframe tbody tr th {\n",
       "        vertical-align: top;\n",
       "    }\n",
       "\n",
       "    .dataframe thead th {\n",
       "        text-align: right;\n",
       "    }\n",
       "</style>\n",
       "<table border=\"1\" class=\"dataframe\">\n",
       "  <thead>\n",
       "    <tr style=\"text-align: right;\">\n",
       "      <th></th>\n",
       "      <th>Time</th>\n",
       "      <th>PRICE</th>\n",
       "      <th>SIZE</th>\n",
       "      <th>AGGRESSOR_SIDE</th>\n",
       "    </tr>\n",
       "  </thead>\n",
       "  <tbody>\n",
       "    <tr>\n",
       "      <th>0</th>\n",
       "      <td>2021-02-01 10:00:01.987427</td>\n",
       "      <td>91.7075</td>\n",
       "      <td>200</td>\n",
       "      <td>B</td>\n",
       "    </tr>\n",
       "    <tr>\n",
       "      <th>1</th>\n",
       "      <td>2021-02-01 10:00:01.987427</td>\n",
       "      <td>91.7075</td>\n",
       "      <td>293</td>\n",
       "      <td>B</td>\n",
       "    </tr>\n",
       "    <tr>\n",
       "      <th>2</th>\n",
       "      <td>2021-02-01 10:00:03.885514</td>\n",
       "      <td>91.7100</td>\n",
       "      <td>30</td>\n",
       "      <td>B</td>\n",
       "    </tr>\n",
       "    <tr>\n",
       "      <th>3</th>\n",
       "      <td>2021-02-01 10:00:04.614574</td>\n",
       "      <td>91.7000</td>\n",
       "      <td>1</td>\n",
       "      <td>S</td>\n",
       "    </tr>\n",
       "    <tr>\n",
       "      <th>4</th>\n",
       "      <td>2021-02-01 10:00:04.674547</td>\n",
       "      <td>91.5850</td>\n",
       "      <td>6</td>\n",
       "      <td>S</td>\n",
       "    </tr>\n",
       "  </tbody>\n",
       "</table>\n",
       "</div>"
      ],
      "text/plain": [
       "                        Time    PRICE  SIZE AGGRESSOR_SIDE\n",
       "0 2021-02-01 10:00:01.987427  91.7075   200              B\n",
       "1 2021-02-01 10:00:01.987427  91.7075   293              B\n",
       "2 2021-02-01 10:00:03.885514  91.7100    30              B\n",
       "3 2021-02-01 10:00:04.614574  91.7000     1              S\n",
       "4 2021-02-01 10:00:04.674547  91.5850     6              S"
      ]
     },
     "execution_count": 23,
     "metadata": {},
     "output_type": "execute_result"
    }
   ],
   "source": [
    "data[:5]"
   ]
  },
  {
   "cell_type": "code",
   "execution_count": 24,
   "id": "54cc62de",
   "metadata": {
    "ExecuteTime": {
     "end_time": "2021-12-08T19:13:43.451629Z",
     "start_time": "2021-12-08T19:13:27.245501Z"
    }
   },
   "outputs": [
    {
     "data": {
      "text/html": [
       "<div>\n",
       "<style scoped>\n",
       "    .dataframe tbody tr th:only-of-type {\n",
       "        vertical-align: middle;\n",
       "    }\n",
       "\n",
       "    .dataframe tbody tr th {\n",
       "        vertical-align: top;\n",
       "    }\n",
       "\n",
       "    .dataframe thead th {\n",
       "        text-align: right;\n",
       "    }\n",
       "</style>\n",
       "<table border=\"1\" class=\"dataframe\">\n",
       "  <thead>\n",
       "    <tr style=\"text-align: right;\">\n",
       "      <th></th>\n",
       "      <th>Time</th>\n",
       "      <th>AGGRESSOR_SIDE</th>\n",
       "      <th>PRICE_min</th>\n",
       "      <th>PRICE_max</th>\n",
       "      <th>SIZE_sum</th>\n",
       "      <th>Date</th>\n",
       "      <th>TimeOnly</th>\n",
       "      <th>DOW</th>\n",
       "      <th>H</th>\n",
       "      <th>Impact</th>\n",
       "    </tr>\n",
       "  </thead>\n",
       "  <tbody>\n",
       "    <tr>\n",
       "      <th>0</th>\n",
       "      <td>2021-02-01 10:00:01.987427</td>\n",
       "      <td>B</td>\n",
       "      <td>91.7075</td>\n",
       "      <td>91.7075</td>\n",
       "      <td>493</td>\n",
       "      <td>2021-02-01</td>\n",
       "      <td>10:00:01.987427</td>\n",
       "      <td>1</td>\n",
       "      <td>10</td>\n",
       "      <td>0.0</td>\n",
       "    </tr>\n",
       "    <tr>\n",
       "      <th>1</th>\n",
       "      <td>2021-02-01 10:00:03.885514</td>\n",
       "      <td>B</td>\n",
       "      <td>91.7100</td>\n",
       "      <td>91.7100</td>\n",
       "      <td>30</td>\n",
       "      <td>2021-02-01</td>\n",
       "      <td>10:00:03.885514</td>\n",
       "      <td>1</td>\n",
       "      <td>10</td>\n",
       "      <td>0.0</td>\n",
       "    </tr>\n",
       "    <tr>\n",
       "      <th>2</th>\n",
       "      <td>2021-02-01 10:00:04.614574</td>\n",
       "      <td>S</td>\n",
       "      <td>91.7000</td>\n",
       "      <td>91.7000</td>\n",
       "      <td>1</td>\n",
       "      <td>2021-02-01</td>\n",
       "      <td>10:00:04.614574</td>\n",
       "      <td>1</td>\n",
       "      <td>10</td>\n",
       "      <td>0.0</td>\n",
       "    </tr>\n",
       "    <tr>\n",
       "      <th>3</th>\n",
       "      <td>2021-02-01 10:00:04.674547</td>\n",
       "      <td>S</td>\n",
       "      <td>91.5850</td>\n",
       "      <td>91.5850</td>\n",
       "      <td>6</td>\n",
       "      <td>2021-02-01</td>\n",
       "      <td>10:00:04.674547</td>\n",
       "      <td>1</td>\n",
       "      <td>10</td>\n",
       "      <td>0.0</td>\n",
       "    </tr>\n",
       "    <tr>\n",
       "      <th>4</th>\n",
       "      <td>2021-02-01 10:00:04.747542</td>\n",
       "      <td>B</td>\n",
       "      <td>91.8050</td>\n",
       "      <td>91.8050</td>\n",
       "      <td>3</td>\n",
       "      <td>2021-02-01</td>\n",
       "      <td>10:00:04.747542</td>\n",
       "      <td>1</td>\n",
       "      <td>10</td>\n",
       "      <td>0.0</td>\n",
       "    </tr>\n",
       "  </tbody>\n",
       "</table>\n",
       "</div>"
      ],
      "text/plain": [
       "                        Time AGGRESSOR_SIDE  PRICE_min  PRICE_max  SIZE_sum  \\\n",
       "0 2021-02-01 10:00:01.987427              B    91.7075    91.7075       493   \n",
       "1 2021-02-01 10:00:03.885514              B    91.7100    91.7100        30   \n",
       "2 2021-02-01 10:00:04.614574              S    91.7000    91.7000         1   \n",
       "3 2021-02-01 10:00:04.674547              S    91.5850    91.5850         6   \n",
       "4 2021-02-01 10:00:04.747542              B    91.8050    91.8050         3   \n",
       "\n",
       "         Date         TimeOnly  DOW   H  Impact  \n",
       "0  2021-02-01  10:00:01.987427    1  10     0.0  \n",
       "1  2021-02-01  10:00:03.885514    1  10     0.0  \n",
       "2  2021-02-01  10:00:04.614574    1  10     0.0  \n",
       "3  2021-02-01  10:00:04.674547    1  10     0.0  \n",
       "4  2021-02-01  10:00:04.747542    1  10     0.0  "
      ]
     },
     "execution_count": 24,
     "metadata": {},
     "output_type": "execute_result"
    }
   ],
   "source": [
    "market_orders_eur = preprocess_deals_data(data)\n",
    "market_orders_eur[:5]"
   ]
  },
  {
   "cell_type": "code",
   "execution_count": 25,
   "id": "8a796553",
   "metadata": {
    "ExecuteTime": {
     "end_time": "2021-12-08T19:13:43.471488Z",
     "start_time": "2021-12-08T19:13:43.453663Z"
    }
   },
   "outputs": [
    {
     "name": "stdout",
     "output_type": "stream",
     "text": [
      "2021-02-01 10:00:01.987427\n",
      "2021-10-20 23:47:25.917780\n",
      "(857010, 10)\n"
     ]
    }
   ],
   "source": [
    "print(market_orders_eur['Time'].min())\n",
    "print(market_orders_eur['Time'].max())\n",
    "print(market_orders_eur.shape)"
   ]
  },
  {
   "cell_type": "code",
   "execution_count": 26,
   "id": "15df0b97",
   "metadata": {
    "ExecuteTime": {
     "end_time": "2021-12-08T19:13:43.680977Z",
     "start_time": "2021-12-08T19:13:43.471488Z"
    }
   },
   "outputs": [],
   "source": [
    "market_orders_eur.to_feather('market_orders_EURRUB.feather')"
   ]
  },
  {
   "cell_type": "markdown",
   "id": "f12328c2",
   "metadata": {},
   "source": [
    "Unfortunately, I have no LOB data to use this market order book in tests."
   ]
  }
 ],
 "metadata": {
  "kernelspec": {
   "display_name": "Python 3 (ipykernel)",
   "language": "python",
   "name": "python3"
  },
  "language_info": {
   "codemirror_mode": {
    "name": "ipython",
    "version": 3
   },
   "file_extension": ".py",
   "mimetype": "text/x-python",
   "name": "python",
   "nbconvert_exporter": "python",
   "pygments_lexer": "ipython3",
   "version": "3.8.12"
  },
  "toc": {
   "base_numbering": 1,
   "nav_menu": {},
   "number_sections": true,
   "sideBar": true,
   "skip_h1_title": false,
   "title_cell": "Table of Contents",
   "title_sidebar": "Contents",
   "toc_cell": false,
   "toc_position": {},
   "toc_section_display": true,
   "toc_window_display": false
  }
 },
 "nbformat": 4,
 "nbformat_minor": 5
}
