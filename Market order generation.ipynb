{
 "cells": [
  {
   "cell_type": "code",
   "execution_count": 1,
   "id": "e2231334",
   "metadata": {
    "ExecuteTime": {
     "end_time": "2021-12-17T14:20:28.653625Z",
     "start_time": "2021-12-17T14:20:25.031036Z"
    }
   },
   "outputs": [],
   "source": [
    "import math\n",
    "import datetime as dt\n",
    "import pickle\n",
    "\n",
    "import pandas as pd\n",
    "import numpy as np\n",
    "import numba\n",
    "import scipy.stats as sts\n",
    "\n",
    "import matplotlib.pyplot as plt\n",
    "import seaborn as sns\n",
    "import plotly.express as px\n",
    "\n",
    "from tqdm.notebook import tqdm\n",
    "from importlib import reload"
   ]
  },
  {
   "cell_type": "code",
   "execution_count": null,
   "id": "5a2f008f",
   "metadata": {},
   "outputs": [],
   "source": []
  },
  {
   "cell_type": "markdown",
   "id": "676d037c",
   "metadata": {},
   "source": [
    "## Test generator.py"
   ]
  },
  {
   "cell_type": "code",
   "execution_count": 2,
   "id": "cc15d085",
   "metadata": {
    "ExecuteTime": {
     "end_time": "2021-12-17T14:20:28.994017Z",
     "start_time": "2021-12-17T14:20:28.656546Z"
    }
   },
   "outputs": [],
   "source": [
    "import generator"
   ]
  },
  {
   "cell_type": "code",
   "execution_count": 3,
   "id": "0381e04e",
   "metadata": {
    "ExecuteTime": {
     "end_time": "2021-12-17T14:20:29.009016Z",
     "start_time": "2021-12-17T14:20:28.997017Z"
    }
   },
   "outputs": [
    {
     "data": {
      "text/plain": [
       "<module 'generator' from 'C:\\\\Users\\\\Sharp.Ra\\\\PyProjects\\\\FinalMDS\\\\generator.py'>"
      ]
     },
     "execution_count": 3,
     "metadata": {},
     "output_type": "execute_result"
    }
   ],
   "source": [
    "reload(generator)"
   ]
  },
  {
   "cell_type": "code",
   "execution_count": 7,
   "id": "25415a9f",
   "metadata": {
    "ExecuteTime": {
     "end_time": "2021-12-17T14:22:23.854870Z",
     "start_time": "2021-12-17T14:22:23.837846Z"
    }
   },
   "outputs": [
    {
     "name": "stdout",
     "output_type": "stream",
     "text": [
      "Spread 1 tick - probability 16.91%\n",
      "Spread 2 tick - probability 31.10%\n",
      "Spread 3 tick - probability 35.04%\n",
      "Spread 4 tick - probability 13.40%\n",
      "Spread 5 tick - probability 2.89%\n",
      "Spread 6 tick - probability 0.66%\n"
     ]
    }
   ],
   "source": [
    "# LOAD spread PMF (probability mass function) as numpy.ndarray\n",
    "spreads = np.load('spreads.npz')['arr_0']\n",
    "for i, s in enumerate(spreads):\n",
    "    print(f\"Spread {i+1} tick - probability {s*100:0.2f}%\")"
   ]
  },
  {
   "cell_type": "code",
   "execution_count": 8,
   "id": "f8cfc4c1",
   "metadata": {
    "ExecuteTime": {
     "end_time": "2021-12-17T14:22:51.238848Z",
     "start_time": "2021-12-17T14:22:51.218876Z"
    }
   },
   "outputs": [],
   "source": [
    "# create generator object\n",
    "m = generator.Market(mu=0, sigma=0.14, ticksize=0.0025, spread_pmf=spreads, basis='hour')"
   ]
  },
  {
   "cell_type": "code",
   "execution_count": 9,
   "id": "d87bab4c",
   "metadata": {
    "ExecuteTime": {
     "end_time": "2021-12-17T14:24:57.929368Z",
     "start_time": "2021-12-17T14:24:57.911363Z"
    }
   },
   "outputs": [
    {
     "data": {
      "text/plain": [
       "<generator.Market at 0x1dfe19fbd00>"
      ]
     },
     "execution_count": 9,
     "metadata": {},
     "output_type": "execute_result"
    }
   ],
   "source": [
    "# LOAD PMF for x50 volumes\n",
    "# See Market order volumes.ipynb \n",
    "m.init_x0_model('PMFx50.npz')"
   ]
  },
  {
   "cell_type": "code",
   "execution_count": 10,
   "id": "73cb6350",
   "metadata": {
    "ExecuteTime": {
     "end_time": "2021-12-17T14:25:01.195945Z",
     "start_time": "2021-12-17T14:25:01.151220Z"
    }
   },
   "outputs": [
    {
     "data": {
      "text/plain": [
       "<generator.Market at 0x1dfe19fbd00>"
      ]
     },
     "execution_count": 10,
     "metadata": {},
     "output_type": "execute_result"
    }
   ],
   "source": [
    "# Load KDE model for xx volumes\n",
    "# See Market order volumes.ipynb \n",
    "m.init_xx_model('kde_model.pickle')"
   ]
  },
  {
   "cell_type": "code",
   "execution_count": null,
   "id": "a2c4a64f",
   "metadata": {},
   "outputs": [],
   "source": []
  },
  {
   "cell_type": "code",
   "execution_count": 13,
   "id": "8e261d3b",
   "metadata": {
    "ExecuteTime": {
     "end_time": "2021-12-17T14:25:25.541913Z",
     "start_time": "2021-12-17T14:25:25.529927Z"
    }
   },
   "outputs": [],
   "source": [
    "start_time = dt.datetime(2020, 1, 1, 10, 0)\n",
    "end_time = dt.datetime(2020, 1, 1, 18, 0)"
   ]
  },
  {
   "cell_type": "code",
   "execution_count": 14,
   "id": "9381d487",
   "metadata": {
    "ExecuteTime": {
     "end_time": "2021-12-17T14:25:27.139447Z",
     "start_time": "2021-12-17T14:25:25.755966Z"
    }
   },
   "outputs": [
    {
     "name": "stdout",
     "output_type": "stream",
     "text": [
      "Wall time: 1.37 s\n"
     ]
    }
   ],
   "source": [
    "%%time\n",
    "# generate times\n",
    "z2, w2 = m.generate_order_times(2000, start_time, end_time)"
   ]
  },
  {
   "cell_type": "code",
   "execution_count": 16,
   "id": "3d1fe3f5",
   "metadata": {
    "ExecuteTime": {
     "end_time": "2021-12-17T14:25:42.241892Z",
     "start_time": "2021-12-17T14:25:40.918237Z"
    }
   },
   "outputs": [],
   "source": [
    "# generate bid/ask\n",
    "b2, a2 = m.generate_bid_ask_prices(w2, 75.)"
   ]
  },
  {
   "cell_type": "code",
   "execution_count": 17,
   "id": "387a20f8",
   "metadata": {
    "ExecuteTime": {
     "end_time": "2021-12-17T14:25:42.512687Z",
     "start_time": "2021-12-17T14:25:42.245833Z"
    }
   },
   "outputs": [
    {
     "data": {
      "text/plain": [
       "[<matplotlib.lines.Line2D at 0x1dfe797c490>]"
      ]
     },
     "execution_count": 17,
     "metadata": {},
     "output_type": "execute_result"
    },
    {
     "data": {
      "image/png": "[encoded data removed]",
      "text/plain": [
       "<Figure size 1080x360 with 1 Axes>"
      ]
     },
     "metadata": {
      "needs_background": "light"
     },
     "output_type": "display_data"
    }
   ],
   "source": [
    "plt.figure(figsize=(15, 5))\n",
    "plt.plot(b2)\n",
    "plt.plot(a2)"
   ]
  },
  {
   "cell_type": "code",
   "execution_count": null,
   "id": "f41b6c8c",
   "metadata": {},
   "outputs": [],
   "source": []
  },
  {
   "cell_type": "code",
   "execution_count": 28,
   "id": "0b387209",
   "metadata": {
    "ExecuteTime": {
     "end_time": "2021-12-17T14:28:55.551823Z",
     "start_time": "2021-12-17T14:28:54.909813Z"
    }
   },
   "outputs": [
    {
     "data": {
      "text/plain": [
       "<AxesSubplot:ylabel='Count'>"
      ]
     },
     "execution_count": 28,
     "metadata": {},
     "output_type": "execute_result"
    },
    {
     "data": {
      "image/png": "[encoded data removed]",
      "text/plain": [
       "<Figure size 1080x360 with 2 Axes>"
      ]
     },
     "metadata": {
      "needs_background": "light"
     },
     "output_type": "display_data"
    }
   ],
   "source": [
    "# generate x50/x500 volumes/impacts\n",
    "mx = m.generate_market_orders_x0(z2.shape[0])\n",
    "\n",
    "fig, ax = plt.subplots(1, 2, figsize=(15, 5))\n",
    "sns.histplot(mx[:, 0], binwidth=10, ax=ax[0], label='volumes')\n",
    "ax[0].set_xlim([0, 1100])\n",
    "sns.histplot(mx[:, 1], binwidth=0.0025, ax=ax[1], label='impact')"
   ]
  },
  {
   "cell_type": "code",
   "execution_count": 27,
   "id": "494340b0",
   "metadata": {
    "ExecuteTime": {
     "end_time": "2021-12-17T14:28:49.035874Z",
     "start_time": "2021-12-17T14:28:47.999164Z"
    }
   },
   "outputs": [
    {
     "data": {
      "text/plain": [
       "<AxesSubplot:ylabel='Count'>"
      ]
     },
     "execution_count": 27,
     "metadata": {},
     "output_type": "execute_result"
    },
    {
     "data": {
      "image/png": "[encoded data removed]",
      "text/plain": [
       "<Figure size 1080x360 with 2 Axes>"
      ]
     },
     "metadata": {
      "needs_background": "light"
     },
     "output_type": "display_data"
    }
   ],
   "source": [
    "# generate regular volumes/impacts\n",
    "mxx = m.generate_market_orders_xx(z2.shape[0])\n",
    "\n",
    "fig, ax = plt.subplots(1, 2, figsize=(15, 5))\n",
    "sns.histplot(mxx[:, 0], binwidth=10, ax=ax[0], label='volumes')\n",
    "ax[0].set_xlim([0, 1100])\n",
    "sns.histplot(mxx[:, 1], binwidth=0.0025, ax=ax[1], label='impact')"
   ]
  },
  {
   "cell_type": "code",
   "execution_count": 21,
   "id": "9547d0bb",
   "metadata": {
    "ExecuteTime": {
     "end_time": "2021-12-17T14:27:35.599476Z",
     "start_time": "2021-12-17T14:27:35.456408Z"
    }
   },
   "outputs": [],
   "source": [
    "# Get all together: generate order book\n",
    "df_mb = m.order_book(2200, 75., start_time, end_time, 0.5, 0.36)"
   ]
  },
  {
   "cell_type": "code",
   "execution_count": 22,
   "id": "7ce220de",
   "metadata": {
    "ExecuteTime": {
     "end_time": "2021-12-17T14:27:36.142093Z",
     "start_time": "2021-12-17T14:27:36.113059Z"
    }
   },
   "outputs": [
    {
     "data": {
      "text/html": [
       "<div>\n",
       "<style scoped>\n",
       "    .dataframe tbody tr th:only-of-type {\n",
       "        vertical-align: middle;\n",
       "    }\n",
       "\n",
       "    .dataframe tbody tr th {\n",
       "        vertical-align: top;\n",
       "    }\n",
       "\n",
       "    .dataframe thead th {\n",
       "        text-align: right;\n",
       "    }\n",
       "</style>\n",
       "<table border=\"1\" class=\"dataframe\">\n",
       "  <thead>\n",
       "    <tr style=\"text-align: right;\">\n",
       "      <th></th>\n",
       "      <th>Time</th>\n",
       "      <th>Side</th>\n",
       "      <th>Volume</th>\n",
       "      <th>Impact</th>\n",
       "      <th>BID</th>\n",
       "      <th>ASK</th>\n",
       "    </tr>\n",
       "  </thead>\n",
       "  <tbody>\n",
       "    <tr>\n",
       "      <th>0</th>\n",
       "      <td>2020-01-01 10:00:07.233759</td>\n",
       "      <td>1</td>\n",
       "      <td>50.0</td>\n",
       "      <td>0.0</td>\n",
       "      <td>75.0025</td>\n",
       "      <td>75.0100</td>\n",
       "    </tr>\n",
       "    <tr>\n",
       "      <th>1</th>\n",
       "      <td>2020-01-01 10:00:11.322366</td>\n",
       "      <td>-1</td>\n",
       "      <td>50.0</td>\n",
       "      <td>0.0</td>\n",
       "      <td>74.9950</td>\n",
       "      <td>75.0025</td>\n",
       "    </tr>\n",
       "    <tr>\n",
       "      <th>2</th>\n",
       "      <td>2020-01-01 10:00:12.876688</td>\n",
       "      <td>-1</td>\n",
       "      <td>100.0</td>\n",
       "      <td>0.0</td>\n",
       "      <td>74.9925</td>\n",
       "      <td>74.9975</td>\n",
       "    </tr>\n",
       "    <tr>\n",
       "      <th>3</th>\n",
       "      <td>2020-01-01 10:00:13.424058</td>\n",
       "      <td>1</td>\n",
       "      <td>3.0</td>\n",
       "      <td>0.0</td>\n",
       "      <td>74.9875</td>\n",
       "      <td>74.9950</td>\n",
       "    </tr>\n",
       "    <tr>\n",
       "      <th>4</th>\n",
       "      <td>2020-01-01 10:00:14.724521</td>\n",
       "      <td>-1</td>\n",
       "      <td>100.0</td>\n",
       "      <td>0.0</td>\n",
       "      <td>74.9900</td>\n",
       "      <td>74.9975</td>\n",
       "    </tr>\n",
       "  </tbody>\n",
       "</table>\n",
       "</div>"
      ],
      "text/plain": [
       "                        Time  Side  Volume  Impact      BID      ASK\n",
       "0 2020-01-01 10:00:07.233759     1    50.0     0.0  75.0025  75.0100\n",
       "1 2020-01-01 10:00:11.322366    -1    50.0     0.0  74.9950  75.0025\n",
       "2 2020-01-01 10:00:12.876688    -1   100.0     0.0  74.9925  74.9975\n",
       "3 2020-01-01 10:00:13.424058     1     3.0     0.0  74.9875  74.9950\n",
       "4 2020-01-01 10:00:14.724521    -1   100.0     0.0  74.9900  74.9975"
      ]
     },
     "execution_count": 22,
     "metadata": {},
     "output_type": "execute_result"
    }
   ],
   "source": [
    "df_mb[:5]"
   ]
  },
  {
   "cell_type": "code",
   "execution_count": 26,
   "id": "00e410e9",
   "metadata": {
    "ExecuteTime": {
     "end_time": "2021-12-17T14:28:39.125878Z",
     "start_time": "2021-12-17T14:28:37.826897Z"
    },
    "scrolled": true
   },
   "outputs": [
    {
     "data": {
      "text/plain": [
       "<AxesSubplot:xlabel='Impact', ylabel='Count'>"
      ]
     },
     "execution_count": 26,
     "metadata": {},
     "output_type": "execute_result"
    },
    {
     "data": {
      "image/png": "[encoded data removed]",
      "text/plain": [
       "<Figure size 1080x360 with 2 Axes>"
      ]
     },
     "metadata": {
      "needs_background": "light"
     },
     "output_type": "display_data"
    }
   ],
   "source": [
    "# Final volume and impact distributions\n",
    "fig, ax = plt.subplots(1, 2, figsize=(15, 5))\n",
    "sns.histplot(df_mb['Volume'], binwidth=10, ax=ax[0], label='volumes')\n",
    "ax[0].set_xlim([0, 1100])\n",
    "sns.histplot(df_mb['Impact'], binwidth=0.0025, ax=ax[1], label='impact')"
   ]
  },
  {
   "cell_type": "markdown",
   "id": "72210b8c",
   "metadata": {},
   "source": [
    "## Generate a lot of data for further quality analysis"
   ]
  },
  {
   "cell_type": "code",
   "execution_count": 38,
   "id": "69f586d8",
   "metadata": {
    "ExecuteTime": {
     "end_time": "2021-12-17T14:45:14.314883Z",
     "start_time": "2021-12-17T14:44:44.557965Z"
    }
   },
   "outputs": [
    {
     "data": {
      "application/vnd.jupyter.widget-view+json": {
       "model_id": "787ee92c94354834be19529c33ed2213",
       "version_major": 2,
       "version_minor": 0
      },
      "text/plain": [
       "  0%|          | 0/200 [00:00<?, ?it/s]"
      ]
     },
     "metadata": {},
     "output_type": "display_data"
    }
   ],
   "source": [
    "xstart = start_time\n",
    "xend = end_time\n",
    "df_res = pd.DataFrame(columns=df_mb.columns)\n",
    "xprice = 75\n",
    "for _ in tqdm(range(200)):    \n",
    "    df_mb = m.order_book(2200, xprice, start_time, end_time, 0.5, 0.36)\n",
    "    xstart = xstart + dt.timedelta(days=1)\n",
    "    xend = xend + dt.timedelta(days=1)\n",
    "    xprice = df_mb['BID'].iloc[-1]\n",
    "    df_res = df_res.append(df_mb, ignore_index=True)"
   ]
  },
  {
   "cell_type": "code",
   "execution_count": 39,
   "id": "22fe4cac",
   "metadata": {
    "ExecuteTime": {
     "end_time": "2021-12-17T14:45:14.345885Z",
     "start_time": "2021-12-17T14:45:14.317883Z"
    }
   },
   "outputs": [
    {
     "data": {
      "text/html": [
       "<div>\n",
       "<style scoped>\n",
       "    .dataframe tbody tr th:only-of-type {\n",
       "        vertical-align: middle;\n",
       "    }\n",
       "\n",
       "    .dataframe tbody tr th {\n",
       "        vertical-align: top;\n",
       "    }\n",
       "\n",
       "    .dataframe thead th {\n",
       "        text-align: right;\n",
       "    }\n",
       "</style>\n",
       "<table border=\"1\" class=\"dataframe\">\n",
       "  <thead>\n",
       "    <tr style=\"text-align: right;\">\n",
       "      <th></th>\n",
       "      <th>Time</th>\n",
       "      <th>Side</th>\n",
       "      <th>Volume</th>\n",
       "      <th>Impact</th>\n",
       "      <th>BID</th>\n",
       "      <th>ASK</th>\n",
       "    </tr>\n",
       "  </thead>\n",
       "  <tbody>\n",
       "    <tr>\n",
       "      <th>0</th>\n",
       "      <td>2020-01-01 10:00:03.463442</td>\n",
       "      <td>-1</td>\n",
       "      <td>300.0</td>\n",
       "      <td>0.0</td>\n",
       "      <td>75.0000</td>\n",
       "      <td>75.0025</td>\n",
       "    </tr>\n",
       "    <tr>\n",
       "      <th>1</th>\n",
       "      <td>2020-01-01 10:00:04.830754</td>\n",
       "      <td>-1</td>\n",
       "      <td>100.0</td>\n",
       "      <td>0.0</td>\n",
       "      <td>75.0000</td>\n",
       "      <td>75.0025</td>\n",
       "    </tr>\n",
       "    <tr>\n",
       "      <th>2</th>\n",
       "      <td>2020-01-01 10:00:05.400756</td>\n",
       "      <td>-1</td>\n",
       "      <td>50.0</td>\n",
       "      <td>0.0</td>\n",
       "      <td>75.0025</td>\n",
       "      <td>75.0125</td>\n",
       "    </tr>\n",
       "    <tr>\n",
       "      <th>3</th>\n",
       "      <td>2020-01-01 10:00:08.166024</td>\n",
       "      <td>1</td>\n",
       "      <td>50.0</td>\n",
       "      <td>0.0</td>\n",
       "      <td>75.0000</td>\n",
       "      <td>75.0075</td>\n",
       "    </tr>\n",
       "    <tr>\n",
       "      <th>4</th>\n",
       "      <td>2020-01-01 10:00:08.171940</td>\n",
       "      <td>1</td>\n",
       "      <td>50.0</td>\n",
       "      <td>0.0</td>\n",
       "      <td>75.0000</td>\n",
       "      <td>75.0025</td>\n",
       "    </tr>\n",
       "  </tbody>\n",
       "</table>\n",
       "</div>"
      ],
      "text/plain": [
       "                        Time Side  Volume  Impact      BID      ASK\n",
       "0 2020-01-01 10:00:03.463442   -1   300.0     0.0  75.0000  75.0025\n",
       "1 2020-01-01 10:00:04.830754   -1   100.0     0.0  75.0000  75.0025\n",
       "2 2020-01-01 10:00:05.400756   -1    50.0     0.0  75.0025  75.0125\n",
       "3 2020-01-01 10:00:08.166024    1    50.0     0.0  75.0000  75.0075\n",
       "4 2020-01-01 10:00:08.171940    1    50.0     0.0  75.0000  75.0025"
      ]
     },
     "execution_count": 39,
     "metadata": {},
     "output_type": "execute_result"
    }
   ],
   "source": [
    "df_res[:5]"
   ]
  },
  {
   "cell_type": "code",
   "execution_count": 40,
   "id": "0134c14c",
   "metadata": {
    "ExecuteTime": {
     "end_time": "2021-12-17T14:45:14.408964Z",
     "start_time": "2021-12-17T14:45:14.348889Z"
    }
   },
   "outputs": [
    {
     "data": {
      "text/plain": [
       "(3521160, 6)"
      ]
     },
     "execution_count": 40,
     "metadata": {},
     "output_type": "execute_result"
    }
   ],
   "source": [
    "df_res.shape"
   ]
  },
  {
   "cell_type": "code",
   "execution_count": null,
   "id": "19beaeae",
   "metadata": {},
   "outputs": [],
   "source": [
    "# export generated order book\n",
    "df_res.to_feather('mo_gen_USDRUB.feather')"
   ]
  },
  {
   "cell_type": "code",
   "execution_count": null,
   "id": "c0feaab4",
   "metadata": {},
   "outputs": [],
   "source": []
  }
 ],
 "metadata": {
  "kernelspec": {
   "display_name": "Python 3 (ipykernel)",
   "language": "python",
   "name": "python3"
  },
  "language_info": {
   "codemirror_mode": {
    "name": "ipython",
    "version": 3
   },
   "file_extension": ".py",
   "mimetype": "text/x-python",
   "name": "python",
   "nbconvert_exporter": "python",
   "pygments_lexer": "ipython3",
   "version": "3.8.12"
  },
  "toc": {
   "base_numbering": 1,
   "nav_menu": {
    "height": "221px",
    "width": "223px"
   },
   "number_sections": true,
   "sideBar": true,
   "skip_h1_title": false,
   "title_cell": "Table of Contents",
   "title_sidebar": "Contents",
   "toc_cell": false,
   "toc_position": {
    "height": "calc(100% - 180px)",
    "left": "10px",
    "top": "150px",
    "width": "364px"
   },
   "toc_section_display": true,
   "toc_window_display": true
  }
 },
 "nbformat": 4,
 "nbformat_minor": 5
}
